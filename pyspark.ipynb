{
  "nbformat": 4,
  "nbformat_minor": 0,
  "metadata": {
    "colab": {
      "provenance": []
    },
    "kernelspec": {
      "name": "python3",
      "display_name": "Python 3"
    },
    "language_info": {
      "name": "python"
    }
  },
  "cells": [
    {
      "cell_type": "code",
      "execution_count": 1,
      "metadata": {
        "colab": {
          "base_uri": "https://localhost:8080/"
        },
        "id": "FaShZK4gP2VU",
        "outputId": "26f48bcc-eb58-43ca-efb9-ce59db41871e"
      },
      "outputs": [
        {
          "output_type": "stream",
          "name": "stdout",
          "text": [
            "Collecting pyspark\n",
            "  Downloading pyspark-3.5.0.tar.gz (316.9 MB)\n",
            "\u001b[2K     \u001b[90m━━━━━━━━━━━━━━━━━━━━━━━━━━━━━━━━━━━━━━━━\u001b[0m \u001b[32m316.9/316.9 MB\u001b[0m \u001b[31m2.6 MB/s\u001b[0m eta \u001b[36m0:00:00\u001b[0m\n",
            "\u001b[?25h  Preparing metadata (setup.py) ... \u001b[?25l\u001b[?25hdone\n",
            "Requirement already satisfied: py4j==0.10.9.7 in /usr/local/lib/python3.10/dist-packages (from pyspark) (0.10.9.7)\n",
            "Building wheels for collected packages: pyspark\n",
            "  Building wheel for pyspark (setup.py) ... \u001b[?25l\u001b[?25hdone\n",
            "  Created wheel for pyspark: filename=pyspark-3.5.0-py2.py3-none-any.whl size=317425344 sha256=705cc86f897329cb6842bedf773037c3f41cb5efc27e52268222e5412ffe6461\n",
            "  Stored in directory: /root/.cache/pip/wheels/41/4e/10/c2cf2467f71c678cfc8a6b9ac9241e5e44a01940da8fbb17fc\n",
            "Successfully built pyspark\n",
            "Installing collected packages: pyspark\n",
            "Successfully installed pyspark-3.5.0\n"
          ]
        }
      ],
      "source": [
        "!pip install pyspark"
      ]
    },
    {
      "cell_type": "code",
      "source": [
        "import pandas as pd\n",
        "from pyspark.sql import SparkSession"
      ],
      "metadata": {
        "id": "D03i9YIAQLvI"
      },
      "execution_count": 4,
      "outputs": []
    },
    {
      "cell_type": "code",
      "source": [
        "spark = SparkSession.builder.appName('Learn-Pyspark').getOrCreate()"
      ],
      "metadata": {
        "id": "syBhgwrsQlnJ"
      },
      "execution_count": 6,
      "outputs": []
    },
    {
      "cell_type": "code",
      "source": [
        "spark"
      ],
      "metadata": {
        "colab": {
          "base_uri": "https://localhost:8080/",
          "height": 221
        },
        "id": "F5mEXhpnTR1C",
        "outputId": "2b3d307d-827d-4725-c976-d67be8a7516d"
      },
      "execution_count": 7,
      "outputs": [
        {
          "output_type": "execute_result",
          "data": {
            "text/plain": [
              "<pyspark.sql.session.SparkSession at 0x791b264c6d10>"
            ],
            "text/html": [
              "\n",
              "            <div>\n",
              "                <p><b>SparkSession - in-memory</b></p>\n",
              "                \n",
              "        <div>\n",
              "            <p><b>SparkContext</b></p>\n",
              "\n",
              "            <p><a href=\"http://2fbc1f68f822:4040\">Spark UI</a></p>\n",
              "\n",
              "            <dl>\n",
              "              <dt>Version</dt>\n",
              "                <dd><code>v3.5.0</code></dd>\n",
              "              <dt>Master</dt>\n",
              "                <dd><code>local[*]</code></dd>\n",
              "              <dt>AppName</dt>\n",
              "                <dd><code>Learn-Pyspark</code></dd>\n",
              "            </dl>\n",
              "        </div>\n",
              "        \n",
              "            </div>\n",
              "        "
            ]
          },
          "metadata": {},
          "execution_count": 7
        }
      ]
    },
    {
      "cell_type": "code",
      "source": [
        "df_pyspark = spark.read.csv('spotify_songs.csv')"
      ],
      "metadata": {
        "id": "4Lz6aDtZTt-U"
      },
      "execution_count": 10,
      "outputs": []
    },
    {
      "cell_type": "code",
      "source": [
        "df_pyspark = spark.read.option('header', 'true').csv('spotify_songs.csv', inferSchema = True)"
      ],
      "metadata": {
        "id": "Ixvgw-KOUngi"
      },
      "execution_count": 27,
      "outputs": []
    },
    {
      "cell_type": "code",
      "source": [
        "df_pyspark.show(3)"
      ],
      "metadata": {
        "colab": {
          "base_uri": "https://localhost:8080/"
        },
        "id": "euXnvaWVVmSe",
        "outputId": "1d128813-9808-41cf-90bf-2d1bbf9e83df"
      },
      "execution_count": 28,
      "outputs": [
        {
          "output_type": "stream",
          "name": "stdout",
          "text": [
            "+--------------------+--------------------+------------+----------------+--------------------+--------------------+------------------------+-------------+--------------------+--------------+-----------------+------------+------+---+--------+----+-----------+------------+----------------+--------+-------+-------+-----------+\n",
            "|            track_id|          track_name|track_artist|track_popularity|      track_album_id|    track_album_name|track_album_release_date|playlist_name|         playlist_id|playlist_genre|playlist_subgenre|danceability|energy|key|loudness|mode|speechiness|acousticness|instrumentalness|liveness|valence|  tempo|duration_ms|\n",
            "+--------------------+--------------------+------------+----------------+--------------------+--------------------+------------------------+-------------+--------------------+--------------+-----------------+------------+------+---+--------+----+-----------+------------+----------------+--------+-------+-------+-----------+\n",
            "|6f807x0ima9a1j3VP...|I Don't Care (wit...|  Ed Sheeran|              66|2oCs0DGTsRO98Gh5Z...|I Don't Care (wit...|              2019-06-14|    Pop Remix|37i9dQZF1DXcZDD7c...|           pop|        dance pop|       0.748| 0.916|  6|  -2.634|   1|     0.0583|       0.102|             0.0|  0.0653|  0.518|122.036|   194754.0|\n",
            "|0r7CVbZTWZgbTCYdf...|Memories - Dillon...|    Maroon 5|              67|63rPSO264uRjW1X5E...|Memories (Dillon ...|              2019-12-13|    Pop Remix|37i9dQZF1DXcZDD7c...|           pop|        dance pop|       0.726| 0.815| 11|  -4.969|   1|     0.0373|      0.0724|         0.00421|   0.357|  0.693| 99.972|   162600.0|\n",
            "|1z1Hg7Vb0AhHDiEmn...|All the Time - Do...|Zara Larsson|              70|1HoSmj2eLcsrR0vE9...|All the Time (Don...|              2019-07-05|    Pop Remix|37i9dQZF1DXcZDD7c...|           pop|        dance pop|       0.675| 0.931|  1|  -3.432|   0|     0.0742|      0.0794|         2.33E-5|    0.11|  0.613|124.008|   176616.0|\n",
            "+--------------------+--------------------+------------+----------------+--------------------+--------------------+------------------------+-------------+--------------------+--------------+-----------------+------------+------+---+--------+----+-----------+------------+----------------+--------+-------+-------+-----------+\n",
            "only showing top 3 rows\n",
            "\n"
          ]
        }
      ]
    },
    {
      "cell_type": "code",
      "source": [
        "type(df_pyspark)"
      ],
      "metadata": {
        "colab": {
          "base_uri": "https://localhost:8080/"
        },
        "id": "Snt4PRGWUDne",
        "outputId": "b5dee457-b835-44cb-cc01-f3d48fe3e26a"
      },
      "execution_count": 29,
      "outputs": [
        {
          "output_type": "execute_result",
          "data": {
            "text/plain": [
              "pyspark.sql.dataframe.DataFrame"
            ]
          },
          "metadata": {},
          "execution_count": 29
        }
      ]
    },
    {
      "cell_type": "code",
      "source": [
        "df_pyspark.printSchema()"
      ],
      "metadata": {
        "colab": {
          "base_uri": "https://localhost:8080/"
        },
        "id": "9bPO6YUuUDp8",
        "outputId": "88aa2ed0-4f0a-4e29-b8fb-063791b1dd40"
      },
      "execution_count": 30,
      "outputs": [
        {
          "output_type": "stream",
          "name": "stdout",
          "text": [
            "root\n",
            " |-- track_id: string (nullable = true)\n",
            " |-- track_name: string (nullable = true)\n",
            " |-- track_artist: string (nullable = true)\n",
            " |-- track_popularity: integer (nullable = true)\n",
            " |-- track_album_id: string (nullable = true)\n",
            " |-- track_album_name: string (nullable = true)\n",
            " |-- track_album_release_date: string (nullable = true)\n",
            " |-- playlist_name: string (nullable = true)\n",
            " |-- playlist_id: string (nullable = true)\n",
            " |-- playlist_genre: string (nullable = true)\n",
            " |-- playlist_subgenre: string (nullable = true)\n",
            " |-- danceability: string (nullable = true)\n",
            " |-- energy: string (nullable = true)\n",
            " |-- key: string (nullable = true)\n",
            " |-- loudness: string (nullable = true)\n",
            " |-- mode: string (nullable = true)\n",
            " |-- speechiness: double (nullable = true)\n",
            " |-- acousticness: double (nullable = true)\n",
            " |-- instrumentalness: double (nullable = true)\n",
            " |-- liveness: double (nullable = true)\n",
            " |-- valence: double (nullable = true)\n",
            " |-- tempo: double (nullable = true)\n",
            " |-- duration_ms: double (nullable = true)\n",
            "\n"
          ]
        }
      ]
    },
    {
      "cell_type": "code",
      "source": [
        "df_pyspark.select(['track_artist', 'energy']).show(2)"
      ],
      "metadata": {
        "colab": {
          "base_uri": "https://localhost:8080/"
        },
        "id": "IthbFr7oUDsA",
        "outputId": "4bd41995-bed1-4b4a-8e5d-dd80de4012b5"
      },
      "execution_count": 34,
      "outputs": [
        {
          "output_type": "stream",
          "name": "stdout",
          "text": [
            "+------------+------+\n",
            "|track_artist|energy|\n",
            "+------------+------+\n",
            "|  Ed Sheeran| 0.916|\n",
            "|    Maroon 5| 0.815|\n",
            "+------------+------+\n",
            "only showing top 2 rows\n",
            "\n"
          ]
        }
      ]
    },
    {
      "cell_type": "code",
      "source": [
        "df_pyspark.columns"
      ],
      "metadata": {
        "colab": {
          "base_uri": "https://localhost:8080/"
        },
        "id": "s9v0DYtcUDto",
        "outputId": "7c9208d6-758b-4b22-fdd0-1cae99cff54e"
      },
      "execution_count": 35,
      "outputs": [
        {
          "output_type": "execute_result",
          "data": {
            "text/plain": [
              "['track_id',\n",
              " 'track_name',\n",
              " 'track_artist',\n",
              " 'track_popularity',\n",
              " 'track_album_id',\n",
              " 'track_album_name',\n",
              " 'track_album_release_date',\n",
              " 'playlist_name',\n",
              " 'playlist_id',\n",
              " 'playlist_genre',\n",
              " 'playlist_subgenre',\n",
              " 'danceability',\n",
              " 'energy',\n",
              " 'key',\n",
              " 'loudness',\n",
              " 'mode',\n",
              " 'speechiness',\n",
              " 'acousticness',\n",
              " 'instrumentalness',\n",
              " 'liveness',\n",
              " 'valence',\n",
              " 'tempo',\n",
              " 'duration_ms']"
            ]
          },
          "metadata": {},
          "execution_count": 35
        }
      ]
    },
    {
      "cell_type": "code",
      "source": [
        "df_pyspark.dtypes"
      ],
      "metadata": {
        "colab": {
          "base_uri": "https://localhost:8080/"
        },
        "id": "mHgjL_I5UDvj",
        "outputId": "9081ba76-26e7-421e-b2c0-b20ac29a20e2"
      },
      "execution_count": 37,
      "outputs": [
        {
          "output_type": "execute_result",
          "data": {
            "text/plain": [
              "[('track_id', 'string'),\n",
              " ('track_name', 'string'),\n",
              " ('track_artist', 'string'),\n",
              " ('track_popularity', 'int'),\n",
              " ('track_album_id', 'string'),\n",
              " ('track_album_name', 'string'),\n",
              " ('track_album_release_date', 'string'),\n",
              " ('playlist_name', 'string'),\n",
              " ('playlist_id', 'string'),\n",
              " ('playlist_genre', 'string'),\n",
              " ('playlist_subgenre', 'string'),\n",
              " ('danceability', 'string'),\n",
              " ('energy', 'string'),\n",
              " ('key', 'string'),\n",
              " ('loudness', 'string'),\n",
              " ('mode', 'string'),\n",
              " ('speechiness', 'double'),\n",
              " ('acousticness', 'double'),\n",
              " ('instrumentalness', 'double'),\n",
              " ('liveness', 'double'),\n",
              " ('valence', 'double'),\n",
              " ('tempo', 'double'),\n",
              " ('duration_ms', 'double')]"
            ]
          },
          "metadata": {},
          "execution_count": 37
        }
      ]
    },
    {
      "cell_type": "code",
      "source": [
        "df_pyspark.describe().show()"
      ],
      "metadata": {
        "colab": {
          "base_uri": "https://localhost:8080/"
        },
        "id": "EEo_yMwfUDyF",
        "outputId": "e8035464-99e1-4065-8e61-734c37a27e51"
      },
      "execution_count": 41,
      "outputs": [
        {
          "output_type": "stream",
          "name": "stdout",
          "text": [
            "+-------+--------------------+--------------------+------------------+------------------+--------------------+------------------------+------------------------+--------------------+---------------+--------------------+------------------+-------------------+--------------------+-----------------+------------------+--------------------+-------------------+-------------------+-------------------+-------------------+------------------+------------------+------------------+\n",
            "|summary|            track_id|          track_name|      track_artist|  track_popularity|      track_album_id|        track_album_name|track_album_release_date|       playlist_name|    playlist_id|      playlist_genre| playlist_subgenre|       danceability|              energy|              key|          loudness|                mode|        speechiness|       acousticness|   instrumentalness|           liveness|           valence|             tempo|       duration_ms|\n",
            "+-------+--------------------+--------------------+------------------+------------------+--------------------+------------------------+------------------------+--------------------+---------------+--------------------+------------------+-------------------+--------------------+-----------------+------------------+--------------------+-------------------+-------------------+-------------------+-------------------+------------------+------------------+------------------+\n",
            "|  count|               32833|               32833|             32833|             32833|               32833|                   32833|                   32833|               32833|          32833|               32833|             32833|              32833|               32833|            32833|             32833|               32833|              32833|              32833|              32833|              32833|             32833|             32833|             32833|\n",
            "|   mean|                NULL|            Infinity|            1182.5|42.477080985593766|                NULL|                Infinity|      1994.0409703504042|                NULL|           NULL|                NULL|              NULL| 0.6548413911824773|  0.6987159026254852|5.373788742690058|-6.714960343567283|  0.5617789047270955|0.10728242012609311|0.17532551997076137|0.08503226869460623|0.18983626717022573|0.5104382800840634|120.82878928517026|225681.46748989128|\n",
            "| stddev|                NULL|                 NaN|1994.7120166609927|24.984074486186916|                NULL|                     NaN|      12.936924530888342|                NULL|           NULL|                NULL|              NULL|0.14508082931503163| 0.18083972636320184|3.612248908638986|2.9918276920539455|   0.539370414665492|0.10228729983665304|0.21964117970063668|  0.228459929884962|0.16638032885544798|0.2332299215566853|26.993193516792292|59936.563622578535|\n",
            "|    min|0017A6SJgTbfQVU2E...|\"\"\"I TRIED FOR YE...|               !!!|                 0|000YOrgQoB5IiiH95...|                       !|             My Love!\"\"\"| Niedermeier & Wh...|         Si-Tew| Matthias Heilbro...|       John Gazoo\"|                  0|             0.00814|                0|            -0.046|             -10.425|                0.0|                0.0|                0.0|            -11.062|               0.0|               0.0|            0.0116|\n",
            "|    max|7zzZmpw8L66ZPjH1M...| 하드캐리 Hard Carry|          香取慎吾|               100|7zygyMUltFYOvHoT3...|화양연화 The Most Bea...|              2020-01-29|🤩🤪Post Teen Pop...|indie poptimism|                rock|urban contemporary| urban contemporary|House/Electro/Pro...|                9|               edm|progressive elect...|                1.0|              0.994|                8.0|              0.996|               1.0|            239.44|          517810.0|\n",
            "+-------+--------------------+--------------------+------------------+------------------+--------------------+------------------------+------------------------+--------------------+---------------+--------------------+------------------+-------------------+--------------------+-----------------+------------------+--------------------+-------------------+-------------------+-------------------+-------------------+------------------+------------------+------------------+\n",
            "\n"
          ]
        }
      ]
    },
    {
      "cell_type": "markdown",
      "source": [
        "### Añadiendo columnas al dataframe"
      ],
      "metadata": {
        "id": "X5C7vl03bYQY"
      }
    },
    {
      "cell_type": "code",
      "source": [
        "df_pyspark = df_pyspark.withColumn(\"Más 5 de popularidad\", df_pyspark['track_popularity'] + 5)"
      ],
      "metadata": {
        "id": "rcWA_oU9UD-q"
      },
      "execution_count": 47,
      "outputs": []
    },
    {
      "cell_type": "code",
      "source": [
        "df_pyspark.show(2)"
      ],
      "metadata": {
        "colab": {
          "base_uri": "https://localhost:8080/"
        },
        "id": "38hMBP5dUEEq",
        "outputId": "2fe58c46-e9bb-4e32-b160-2a772d26c948"
      },
      "execution_count": 49,
      "outputs": [
        {
          "output_type": "stream",
          "name": "stdout",
          "text": [
            "+--------------------+--------------------+------------+----------------+--------------------+--------------------+------------------------+-------------+--------------------+--------------+-----------------+------------+------+---+--------+----+-----------+------------+----------------+--------+-------+-------+-----------+--------------------+\n",
            "|            track_id|          track_name|track_artist|track_popularity|      track_album_id|    track_album_name|track_album_release_date|playlist_name|         playlist_id|playlist_genre|playlist_subgenre|danceability|energy|key|loudness|mode|speechiness|acousticness|instrumentalness|liveness|valence|  tempo|duration_ms|Más 5 de popularidad|\n",
            "+--------------------+--------------------+------------+----------------+--------------------+--------------------+------------------------+-------------+--------------------+--------------+-----------------+------------+------+---+--------+----+-----------+------------+----------------+--------+-------+-------+-----------+--------------------+\n",
            "|6f807x0ima9a1j3VP...|I Don't Care (wit...|  Ed Sheeran|              66|2oCs0DGTsRO98Gh5Z...|I Don't Care (wit...|              2019-06-14|    Pop Remix|37i9dQZF1DXcZDD7c...|           pop|        dance pop|       0.748| 0.916|  6|  -2.634|   1|     0.0583|       0.102|             0.0|  0.0653|  0.518|122.036|   194754.0|                  71|\n",
            "|0r7CVbZTWZgbTCYdf...|Memories - Dillon...|    Maroon 5|              67|63rPSO264uRjW1X5E...|Memories (Dillon ...|              2019-12-13|    Pop Remix|37i9dQZF1DXcZDD7c...|           pop|        dance pop|       0.726| 0.815| 11|  -4.969|   1|     0.0373|      0.0724|         0.00421|   0.357|  0.693| 99.972|   162600.0|                  72|\n",
            "+--------------------+--------------------+------------+----------------+--------------------+--------------------+------------------------+-------------+--------------------+--------------+-----------------+------------+------+---+--------+----+-----------+------------+----------------+--------+-------+-------+-----------+--------------------+\n",
            "only showing top 2 rows\n",
            "\n"
          ]
        }
      ]
    },
    {
      "cell_type": "markdown",
      "source": [
        "### Eliminando Columnas"
      ],
      "metadata": {
        "id": "qxDHnqYzc_el"
      }
    },
    {
      "cell_type": "code",
      "source": [
        "df_pyspark = df_pyspark.drop('Más 5 de popularidad')"
      ],
      "metadata": {
        "id": "VqgrfTYiUEHE"
      },
      "execution_count": 52,
      "outputs": []
    },
    {
      "cell_type": "markdown",
      "source": [
        "### Renombrar columnas"
      ],
      "metadata": {
        "id": "pIgJS-dudR76"
      }
    },
    {
      "cell_type": "code",
      "source": [
        "df_pyspark.withColumnRenamed('track_id', 'id_track')"
      ],
      "metadata": {
        "colab": {
          "base_uri": "https://localhost:8080/"
        },
        "id": "1McAFF9dUEI8",
        "outputId": "0d40e15c-ca29-42f4-8d18-c6b85400f59b"
      },
      "execution_count": 53,
      "outputs": [
        {
          "output_type": "execute_result",
          "data": {
            "text/plain": [
              "DataFrame[id_track: string, track_name: string, track_artist: string, track_popularity: int, track_album_id: string, track_album_name: string, track_album_release_date: string, playlist_name: string, playlist_id: string, playlist_genre: string, playlist_subgenre: string, danceability: string, energy: string, key: string, loudness: string, mode: string, speechiness: double, acousticness: double, instrumentalness: double, liveness: double, valence: double, tempo: double, duration_ms: double]"
            ]
          },
          "metadata": {},
          "execution_count": 53
        }
      ]
    },
    {
      "cell_type": "markdown",
      "source": [
        "### Eliminar filas con valores nulos"
      ],
      "metadata": {
        "id": "1EL2LFS6ekO_"
      }
    },
    {
      "cell_type": "code",
      "source": [
        "df_pyspark.na.drop().show()"
      ],
      "metadata": {
        "colab": {
          "base_uri": "https://localhost:8080/"
        },
        "id": "51S2sy4CUELl",
        "outputId": "79dbf211-7e31-4acd-ac52-3806dbd8fda2"
      },
      "execution_count": 54,
      "outputs": [
        {
          "output_type": "stream",
          "name": "stdout",
          "text": [
            "+--------------------+--------------------+----------------+----------------+--------------------+--------------------+------------------------+-------------+--------------------+--------------+-----------------+------------+------+---+--------+----+-----------+------------+----------------+--------+-------+-------+-----------+\n",
            "|            track_id|          track_name|    track_artist|track_popularity|      track_album_id|    track_album_name|track_album_release_date|playlist_name|         playlist_id|playlist_genre|playlist_subgenre|danceability|energy|key|loudness|mode|speechiness|acousticness|instrumentalness|liveness|valence|  tempo|duration_ms|\n",
            "+--------------------+--------------------+----------------+----------------+--------------------+--------------------+------------------------+-------------+--------------------+--------------+-----------------+------------+------+---+--------+----+-----------+------------+----------------+--------+-------+-------+-----------+\n",
            "|6f807x0ima9a1j3VP...|I Don't Care (wit...|      Ed Sheeran|              66|2oCs0DGTsRO98Gh5Z...|I Don't Care (wit...|              2019-06-14|    Pop Remix|37i9dQZF1DXcZDD7c...|           pop|        dance pop|       0.748| 0.916|  6|  -2.634|   1|     0.0583|       0.102|             0.0|  0.0653|  0.518|122.036|   194754.0|\n",
            "|0r7CVbZTWZgbTCYdf...|Memories - Dillon...|        Maroon 5|              67|63rPSO264uRjW1X5E...|Memories (Dillon ...|              2019-12-13|    Pop Remix|37i9dQZF1DXcZDD7c...|           pop|        dance pop|       0.726| 0.815| 11|  -4.969|   1|     0.0373|      0.0724|         0.00421|   0.357|  0.693| 99.972|   162600.0|\n",
            "|1z1Hg7Vb0AhHDiEmn...|All the Time - Do...|    Zara Larsson|              70|1HoSmj2eLcsrR0vE9...|All the Time (Don...|              2019-07-05|    Pop Remix|37i9dQZF1DXcZDD7c...|           pop|        dance pop|       0.675| 0.931|  1|  -3.432|   0|     0.0742|      0.0794|         2.33E-5|    0.11|  0.613|124.008|   176616.0|\n",
            "|75FpbthrwQmzHlBJL...|Call You Mine - K...|The Chainsmokers|              60|1nqYsOef1yKKuGOVc...|Call You Mine - T...|              2019-07-19|    Pop Remix|37i9dQZF1DXcZDD7c...|           pop|        dance pop|       0.718|  0.93|  7|  -3.778|   1|      0.102|      0.0287|         9.43E-6|   0.204|  0.277|121.956|   169093.0|\n",
            "|1e8PAfcKUYoKkxPhr...|Someone You Loved...|   Lewis Capaldi|              69|7m7vv9wlQ4i0LFuJi...|Someone You Loved...|              2019-03-05|    Pop Remix|37i9dQZF1DXcZDD7c...|           pop|        dance pop|        0.65| 0.833|  1|  -4.672|   1|     0.0359|      0.0803|             0.0|  0.0833|  0.725|123.976|   189052.0|\n",
            "|7fvUMiyapMsRRxr07...|Beautiful People ...|      Ed Sheeran|              67|2yiy9cd2QktrNvWC2...|Beautiful People ...|              2019-07-11|    Pop Remix|37i9dQZF1DXcZDD7c...|           pop|        dance pop|       0.675| 0.919|  8|  -5.385|   1|      0.127|      0.0799|             0.0|   0.143|  0.585|124.982|   163049.0|\n",
            "|2OAylPUDDfwRGfe0l...|Never Really Over...|      Katy Perry|              62|7INHYSeusaFlyrHSN...|Never Really Over...|              2019-07-26|    Pop Remix|37i9dQZF1DXcZDD7c...|           pop|        dance pop|       0.449| 0.856|  5|  -4.788|   0|     0.0623|       0.187|             0.0|   0.176|  0.152|112.648|   187675.0|\n",
            "|6b1RNvAcJjQH73eZO...|Post Malone (feat...|       Sam Feldt|              69|6703SRPsLkS4bPtMF...|Post Malone (feat...|              2019-08-29|    Pop Remix|37i9dQZF1DXcZDD7c...|           pop|        dance pop|       0.542| 0.903|  4|  -2.419|   0|     0.0434|      0.0335|         4.83E-6|   0.111|  0.367|127.936|   207619.0|\n",
            "|7bF6tCO3gFb8INrED...|Tough Love - Tiës...|          Avicii|              68|7CvAfGvq4RlIwEbT9...|Tough Love (Tiëst...|              2019-06-14|    Pop Remix|37i9dQZF1DXcZDD7c...|           pop|        dance pop|       0.594| 0.935|  8|  -3.562|   1|     0.0565|      0.0249|         3.97E-6|   0.637|  0.366|127.015|   193187.0|\n",
            "|1IXGILkPm0tOCNeq0...|If I Can't Have Y...|    Shawn Mendes|              67|4QxzbfSsVryEQwvPF...|If I Can't Have Y...|              2019-06-20|    Pop Remix|37i9dQZF1DXcZDD7c...|           pop|        dance pop|       0.642| 0.818|  2|  -4.552|   1|      0.032|      0.0567|             0.0|  0.0919|   0.59|124.957|   253040.0|\n",
            "|3eFJI470ALf1EYjyw...|Cross Me (feat. C...|      Ed Sheeran|              58|49bXZtlI5kQSqQMSC...|Cross Me (feat. C...|              2019-06-21|    Pop Remix|37i9dQZF1DXcZDD7c...|           pop|        dance pop|       0.679| 0.923|  6|    -6.5|   1|      0.181|       0.146|         4.92E-6|   0.124|  0.752|121.984|   207894.0|\n",
            "|3iJeF2izF1QcpCgUc...|Hate Me - R3HAB R...|  Ellie Goulding|              67|6e6RVFWdZaoTiLAZO...|Hate Me (R3HAB Re...|              2019-08-16|    Pop Remix|37i9dQZF1DXcZDD7c...|           pop|        dance pop|       0.437| 0.774|  8|  -4.918|   1|     0.0554|       0.148|             0.0|   0.133|  0.329|123.125|   203733.0|\n",
            "|6e0CvGZf7CouOpYF8...|          Body On My|     Loud Luxury|              67|2R66I0nzp3NnuUlzI...|          Body On My|              2019-03-29|    Pop Remix|37i9dQZF1DXcZDD7c...|           pop|        dance pop|       0.744| 0.726|  1|  -4.675|   1|     0.0463|      0.0399|             0.0|   0.374|  0.687|121.985|   192507.0|\n",
            "|3eLdNmnRWr9gIyBcq...|SOS - Laidback Lu...|          Avicii|              68|7Al4TIo0c5twNLfdO...|SOS (Laidback Luk...|              2019-05-17|    Pop Remix|37i9dQZF1DXcZDD7c...|           pop|        dance pop|       0.572| 0.915|  5|  -4.451|   0|     0.0625|      0.0111|             0.0|   0.339|  0.678|123.919|   164516.0|\n",
            "|55nMnifaQWKe3f9cb...|Summer Days (feat...|   Martin Garrix|              63|2vx3BtBMn8Ed3ygEg...|Summer Days (feat...|              2019-07-12|    Pop Remix|37i9dQZF1DXcZDD7c...|           pop|        dance pop|        0.69|  0.78|  5|  -4.446|   0|     0.0594|     0.00733|         0.00183|  0.0729|  0.238| 126.07|   255238.0|\n",
            "|1EJgymgJHcjSOGSHc...|South of the Bord...|      Ed Sheeran|              66|1imXAvLuowvPYIsFM...|South of the Bord...|              2019-12-11|    Pop Remix|37i9dQZF1DXcZDD7c...|           pop|        dance pop|       0.805| 0.835|  0|  -4.603|   1|     0.0896|        0.13|         5.03E-6|   0.365|  0.722|125.028|   188230.0|\n",
            "|5WaXMQMlQpq8pwIda...|All My Friends - ...|     AJ Mitchell|              60|4lXBBbiEgwTzcfAkq...|All My Friends (E...|              2019-05-03|    Pop Remix|37i9dQZF1DXcZDD7c...|           pop|        dance pop|       0.694| 0.901|  1|  -4.322|   0|     0.0948|      0.0702|             0.0|   0.427|  0.368|118.051|   173548.0|\n",
            "|3TjLsDgL0bTbSQIF6...|Say My Name (feat...|    David Guetta|              65|19z3vpbBT09lZ54ne...|Say My Name (feat...|              2018-12-28|    Pop Remix|37i9dQZF1DXcZDD7c...|           pop|        dance pop|       0.678| 0.747| 10|  -5.289|   0|      0.165|      0.0395|             0.0|   0.174|  0.516|120.002|   189375.0|\n",
            "|0GfS3y8Jd7SHWd9R5...|Dancing With A St...|       Sam Smith|              69|2LDzwN4iZ4qbSA32E...|Dancing With A St...|              2019-03-08|    Pop Remix|37i9dQZF1DXcZDD7c...|           pop|        dance pop|       0.746| 0.557|  1|  -6.722|   1|     0.0542|       0.103|          0.0036|   0.138|  0.324|111.961|   159404.0|\n",
            "|2v3DuCVBbopteJqdM...|Let It Be Me - So...|      Steve Aoki|              35|097kyycr5ZuLS2cPw...|Let It Be Me (Rem...|              2019-10-18|    Pop Remix|37i9dQZF1DXcZDD7c...|           pop|        dance pop|       0.467| 0.821|  7|  -5.466|   1|     0.0934|     0.00791|         4.41E-4|   0.131|  0.232|122.676|   185366.0|\n",
            "+--------------------+--------------------+----------------+----------------+--------------------+--------------------+------------------------+-------------+--------------------+--------------+-----------------+------------+------+---+--------+----+-----------+------------+----------------+--------+-------+-------+-----------+\n",
            "only showing top 20 rows\n",
            "\n"
          ]
        }
      ]
    },
    {
      "cell_type": "markdown",
      "source": [
        "### how\n",
        "df_pyspark.na.drop(how=\"any\") -> elimina la fila si al menos tiene un valor nulo\n",
        "\n",
        "df_pyspark.na.drop(how=\"all\") -> elimina la fila solo si todos los valores de la fila son nulos"
      ],
      "metadata": {
        "id": "bHPZ6bL8fSYu"
      }
    },
    {
      "cell_type": "markdown",
      "source": [
        "### thresh\n",
        "df_pyspark.na.drop(how=\"any\", thresh=2) -> eliminara la filas que no tengan como minimo dos valores no nulos"
      ],
      "metadata": {
        "id": "RT7hUPxdgAQa"
      }
    },
    {
      "cell_type": "markdown",
      "source": [],
      "metadata": {
        "id": "ukXYOEMof9cH"
      }
    },
    {
      "cell_type": "markdown",
      "source": [
        "### subset\n",
        "eliminar columnas aplicando las reglas solo para ciertas columnas\n",
        "\n",
        "df_pyspark.na.drop(how=\"any\", subset=['track_name'])"
      ],
      "metadata": {
        "id": "3iEyJaNjiNc7"
      }
    },
    {
      "cell_type": "markdown",
      "source": [
        "## Completando valores faltantes"
      ],
      "metadata": {
        "id": "VevAe7daibCM"
      }
    },
    {
      "cell_type": "code",
      "source": [
        "# Se completaran todos los campos vacios con el mensaje Valor perdido\n",
        "df_pyspark.na.fill(\"Valor perdido\").show(2)"
      ],
      "metadata": {
        "colab": {
          "base_uri": "https://localhost:8080/"
        },
        "id": "HbDOe5FeiXL5",
        "outputId": "97c80026-389a-4802-8e8e-88d33b7b85ba"
      },
      "execution_count": 58,
      "outputs": [
        {
          "output_type": "stream",
          "name": "stdout",
          "text": [
            "+--------------------+--------------------+------------+----------------+--------------------+--------------------+------------------------+-------------+--------------------+--------------+-----------------+------------+------+---+--------+----+-----------+------------+----------------+--------+-------+-------+-----------+\n",
            "|            track_id|          track_name|track_artist|track_popularity|      track_album_id|    track_album_name|track_album_release_date|playlist_name|         playlist_id|playlist_genre|playlist_subgenre|danceability|energy|key|loudness|mode|speechiness|acousticness|instrumentalness|liveness|valence|  tempo|duration_ms|\n",
            "+--------------------+--------------------+------------+----------------+--------------------+--------------------+------------------------+-------------+--------------------+--------------+-----------------+------------+------+---+--------+----+-----------+------------+----------------+--------+-------+-------+-----------+\n",
            "|6f807x0ima9a1j3VP...|I Don't Care (wit...|  Ed Sheeran|              66|2oCs0DGTsRO98Gh5Z...|I Don't Care (wit...|              2019-06-14|    Pop Remix|37i9dQZF1DXcZDD7c...|           pop|        dance pop|       0.748| 0.916|  6|  -2.634|   1|     0.0583|       0.102|             0.0|  0.0653|  0.518|122.036|   194754.0|\n",
            "|0r7CVbZTWZgbTCYdf...|Memories - Dillon...|    Maroon 5|              67|63rPSO264uRjW1X5E...|Memories (Dillon ...|              2019-12-13|    Pop Remix|37i9dQZF1DXcZDD7c...|           pop|        dance pop|       0.726| 0.815| 11|  -4.969|   1|     0.0373|      0.0724|         0.00421|   0.357|  0.693| 99.972|   162600.0|\n",
            "+--------------------+--------------------+------------+----------------+--------------------+--------------------+------------------------+-------------+--------------------+--------------+-----------------+------------+------+---+--------+----+-----------+------------+----------------+--------+-------+-------+-----------+\n",
            "only showing top 2 rows\n",
            "\n"
          ]
        }
      ]
    },
    {
      "cell_type": "code",
      "source": [
        "# Completando los valores perdidos para una especifica columna\n",
        "df_pyspark.na.fill(\"valor perdido en columna\", [\"track_name\", \"track_artist\"]).show(2)"
      ],
      "metadata": {
        "colab": {
          "base_uri": "https://localhost:8080/"
        },
        "id": "pUd2jFkPiL7X",
        "outputId": "ab4839e6-3d7c-40f6-a0da-860781cc6044"
      },
      "execution_count": 62,
      "outputs": [
        {
          "output_type": "stream",
          "name": "stdout",
          "text": [
            "+--------------------+--------------------+------------+----------------+--------------------+--------------------+------------------------+-------------+--------------------+--------------+-----------------+------------+------+---+--------+----+-----------+------------+----------------+--------+-------+-------+-----------+\n",
            "|            track_id|          track_name|track_artist|track_popularity|      track_album_id|    track_album_name|track_album_release_date|playlist_name|         playlist_id|playlist_genre|playlist_subgenre|danceability|energy|key|loudness|mode|speechiness|acousticness|instrumentalness|liveness|valence|  tempo|duration_ms|\n",
            "+--------------------+--------------------+------------+----------------+--------------------+--------------------+------------------------+-------------+--------------------+--------------+-----------------+------------+------+---+--------+----+-----------+------------+----------------+--------+-------+-------+-----------+\n",
            "|6f807x0ima9a1j3VP...|I Don't Care (wit...|  Ed Sheeran|              66|2oCs0DGTsRO98Gh5Z...|I Don't Care (wit...|              2019-06-14|    Pop Remix|37i9dQZF1DXcZDD7c...|           pop|        dance pop|       0.748| 0.916|  6|  -2.634|   1|     0.0583|       0.102|             0.0|  0.0653|  0.518|122.036|   194754.0|\n",
            "|0r7CVbZTWZgbTCYdf...|Memories - Dillon...|    Maroon 5|              67|63rPSO264uRjW1X5E...|Memories (Dillon ...|              2019-12-13|    Pop Remix|37i9dQZF1DXcZDD7c...|           pop|        dance pop|       0.726| 0.815| 11|  -4.969|   1|     0.0373|      0.0724|         0.00421|   0.357|  0.693| 99.972|   162600.0|\n",
            "+--------------------+--------------------+------------+----------------+--------------------+--------------------+------------------------+-------------+--------------------+--------------+-----------------+------------+------+---+--------+----+-----------+------------+----------------+--------+-------+-------+-----------+\n",
            "only showing top 2 rows\n",
            "\n"
          ]
        }
      ]
    },
    {
      "cell_type": "markdown",
      "source": [
        "## Imputación en Pyspark"
      ],
      "metadata": {
        "id": "hyXwH0Jpke4I"
      }
    },
    {
      "cell_type": "code",
      "source": [
        "# creamos un nuevo dataframe de prueba\n",
        "data = [(\"Alice\", 100.0, \"Data science\"), (\"Bob\", 200.0, \"Data engineer\"), (\"Charlie\", 300.0, \"Python developer\")]\n",
        "columns = [\"name\", \"salary\", \"occupation\"]\n",
        "df_test = spark.createDataFrame(data, columns)"
      ],
      "metadata": {
        "id": "PYcNskAOkeDa"
      },
      "execution_count": 74,
      "outputs": []
    },
    {
      "cell_type": "code",
      "source": [
        "df_test.show()"
      ],
      "metadata": {
        "colab": {
          "base_uri": "https://localhost:8080/"
        },
        "id": "L3OWeXiLkeGS",
        "outputId": "e50f9551-9c53-49fd-d215-b839a62359c3"
      },
      "execution_count": 75,
      "outputs": [
        {
          "output_type": "stream",
          "name": "stdout",
          "text": [
            "+-------+------+----------------+\n",
            "|   name|salary|      occupation|\n",
            "+-------+------+----------------+\n",
            "|  Alice| 100.0|    Data science|\n",
            "|    Bob| 200.0|   Data engineer|\n",
            "|Charlie| 300.0|Python developer|\n",
            "+-------+------+----------------+\n",
            "\n"
          ]
        }
      ]
    },
    {
      "cell_type": "code",
      "source": [
        "df_test.printSchema()"
      ],
      "metadata": {
        "colab": {
          "base_uri": "https://localhost:8080/"
        },
        "id": "Ho5yPx_Tmbvt",
        "outputId": "2d32913e-d93d-4374-dc39-b989faba8514"
      },
      "execution_count": 80,
      "outputs": [
        {
          "output_type": "stream",
          "name": "stdout",
          "text": [
            "root\n",
            " |-- name: string (nullable = true)\n",
            " |-- salary: double (nullable = true)\n",
            " |-- occupation: string (nullable = true)\n",
            "\n"
          ]
        }
      ]
    },
    {
      "cell_type": "code",
      "source": [
        "schema_df_test = df_test.schema"
      ],
      "metadata": {
        "id": "Q0ItUkznl2zO"
      },
      "execution_count": 81,
      "outputs": []
    },
    {
      "cell_type": "code",
      "source": [
        "schema_df_test"
      ],
      "metadata": {
        "colab": {
          "base_uri": "https://localhost:8080/"
        },
        "id": "aSRDs55zmf6n",
        "outputId": "84ac9c66-d7f3-42ea-acf1-f71786e2dc8b"
      },
      "execution_count": 84,
      "outputs": [
        {
          "output_type": "execute_result",
          "data": {
            "text/plain": [
              "StructType([StructField('name', StringType(), True), StructField('salary', DoubleType(), True), StructField('occupation', StringType(), True)])"
            ]
          },
          "metadata": {},
          "execution_count": 84
        }
      ]
    },
    {
      "cell_type": "code",
      "source": [
        "from pyspark.sql import Row"
      ],
      "metadata": {
        "id": "mY-vilkflWhl"
      },
      "execution_count": 77,
      "outputs": []
    },
    {
      "cell_type": "code",
      "source": [
        "# agregamos nuevas filas al dataframe\n",
        "new_rows_data = [\n",
        "    Row(name=\"David\", salary=None, occupation=\"\"),\n",
        "    Row(name=\"Eva\", salary=150.0, occupation=None),\n",
        "    Row(name=\"Frank\", salary=250.0, occupation=\"Java developer\"),\n",
        "    Row(name=None, salary=350.0, occupation=\"\"),\n",
        "    Row(name=\"Grace\", salary=180.0, occupation=\"Data analyst\"),\n",
        "    Row(name=\"Hank\", salary=None, occupation=\"\"),\n",
        "    Row(name=\"Isabel\", salary=280.0, occupation=\"Machine learning engineer\"),\n",
        "    Row(name=None, salary=None, occupation=None),\n",
        "]"
      ],
      "metadata": {
        "id": "-CEyXbtPkeIf"
      },
      "execution_count": 86,
      "outputs": []
    },
    {
      "cell_type": "code",
      "source": [
        "new_df = spark.createDataFrame(new_rows_data, schema=schema_df_test)"
      ],
      "metadata": {
        "id": "L6xV4udakeKV"
      },
      "execution_count": 87,
      "outputs": []
    },
    {
      "cell_type": "code",
      "source": [
        "new_df.show()"
      ],
      "metadata": {
        "colab": {
          "base_uri": "https://localhost:8080/"
        },
        "id": "950Fh29hkeMh",
        "outputId": "9bf7b3f0-17e2-499a-cce5-6faa78489bb7"
      },
      "execution_count": 91,
      "outputs": [
        {
          "output_type": "stream",
          "name": "stdout",
          "text": [
            "+------+------+--------------------+\n",
            "|  name|salary|          occupation|\n",
            "+------+------+--------------------+\n",
            "| David|  NULL|                    |\n",
            "|   Eva| 150.0|                NULL|\n",
            "| Frank| 250.0|      Java developer|\n",
            "|  NULL| 350.0|                    |\n",
            "| Grace| 180.0|        Data analyst|\n",
            "|  Hank|  NULL|                    |\n",
            "|Isabel| 280.0|Machine learning ...|\n",
            "|  NULL|  NULL|                NULL|\n",
            "+------+------+--------------------+\n",
            "\n"
          ]
        }
      ]
    },
    {
      "cell_type": "code",
      "source": [
        "# uniendo lod df\n",
        "df_test = df_test.union(new_df)"
      ],
      "metadata": {
        "id": "4ytBaP5KkeOt"
      },
      "execution_count": 92,
      "outputs": []
    },
    {
      "cell_type": "code",
      "source": [
        "df_test.show()"
      ],
      "metadata": {
        "colab": {
          "base_uri": "https://localhost:8080/"
        },
        "id": "TaVuGwGikeRQ",
        "outputId": "60f571d8-a54a-4e78-82d6-fde369a1c183"
      },
      "execution_count": 93,
      "outputs": [
        {
          "output_type": "stream",
          "name": "stdout",
          "text": [
            "+-------+------+--------------------+\n",
            "|   name|salary|          occupation|\n",
            "+-------+------+--------------------+\n",
            "|  Alice| 100.0|        Data science|\n",
            "|    Bob| 200.0|       Data engineer|\n",
            "|Charlie| 300.0|    Python developer|\n",
            "|  David|  NULL|                    |\n",
            "|    Eva| 150.0|                NULL|\n",
            "|  Frank| 250.0|      Java developer|\n",
            "|   NULL| 350.0|                    |\n",
            "|  Grace| 180.0|        Data analyst|\n",
            "|   Hank|  NULL|                    |\n",
            "| Isabel| 280.0|Machine learning ...|\n",
            "|   NULL|  NULL|                NULL|\n",
            "+-------+------+--------------------+\n",
            "\n"
          ]
        }
      ]
    },
    {
      "cell_type": "code",
      "source": [
        "from pyspark.ml.feature import Imputer\n",
        "\n",
        "imputer = Imputer(\n",
        "    inputCols = ['salary'],\n",
        "    outputCols = [\"{}_imputed\".format(c) for c in ['salary']]\n",
        "  ).setStrategy(\"median\") #mean o median"
      ],
      "metadata": {
        "id": "cvEWlkp6zqSy"
      },
      "execution_count": 98,
      "outputs": []
    },
    {
      "cell_type": "code",
      "source": [
        "# agregar el imput al df\n",
        "imputer.fit(df_test).transform(df_test).show()"
      ],
      "metadata": {
        "colab": {
          "base_uri": "https://localhost:8080/"
        },
        "id": "tNDMR3r_zx0D",
        "outputId": "c3202ad6-5597-471e-f4af-c2ecf7af4029"
      },
      "execution_count": 99,
      "outputs": [
        {
          "output_type": "stream",
          "name": "stdout",
          "text": [
            "+-------+------+--------------------+--------------+\n",
            "|   name|salary|          occupation|salary_imputed|\n",
            "+-------+------+--------------------+--------------+\n",
            "|  Alice| 100.0|        Data science|         100.0|\n",
            "|    Bob| 200.0|       Data engineer|         200.0|\n",
            "|Charlie| 300.0|    Python developer|         300.0|\n",
            "|  David|  NULL|                    |         200.0|\n",
            "|    Eva| 150.0|                NULL|         150.0|\n",
            "|  Frank| 250.0|      Java developer|         250.0|\n",
            "|   NULL| 350.0|                    |         350.0|\n",
            "|  Grace| 180.0|        Data analyst|         180.0|\n",
            "|   Hank|  NULL|                    |         200.0|\n",
            "| Isabel| 280.0|Machine learning ...|         280.0|\n",
            "|   NULL|  NULL|                NULL|         200.0|\n",
            "+-------+------+--------------------+--------------+\n",
            "\n"
          ]
        }
      ]
    },
    {
      "cell_type": "markdown",
      "source": [
        "# Operaciones de filtro"
      ],
      "metadata": {
        "id": "BrWSzO-J1B3M"
      }
    },
    {
      "cell_type": "code",
      "source": [
        "df = df_test\n",
        "df.show()"
      ],
      "metadata": {
        "colab": {
          "base_uri": "https://localhost:8080/"
        },
        "id": "95nvpThGzySX",
        "outputId": "2c664d41-cb2d-406a-b4dd-5cf1e24e85dc"
      },
      "execution_count": 101,
      "outputs": [
        {
          "output_type": "stream",
          "name": "stdout",
          "text": [
            "+-------+------+--------------------+\n",
            "|   name|salary|          occupation|\n",
            "+-------+------+--------------------+\n",
            "|  Alice| 100.0|        Data science|\n",
            "|    Bob| 200.0|       Data engineer|\n",
            "|Charlie| 300.0|    Python developer|\n",
            "|  David|  NULL|                    |\n",
            "|    Eva| 150.0|                NULL|\n",
            "|  Frank| 250.0|      Java developer|\n",
            "|   NULL| 350.0|                    |\n",
            "|  Grace| 180.0|        Data analyst|\n",
            "|   Hank|  NULL|                    |\n",
            "| Isabel| 280.0|Machine learning ...|\n",
            "|   NULL|  NULL|                NULL|\n",
            "+-------+------+--------------------+\n",
            "\n"
          ]
        }
      ]
    },
    {
      "cell_type": "code",
      "source": [
        "# salario mayor a 180\n",
        "df.filter(\"salary > 180\").show()"
      ],
      "metadata": {
        "colab": {
          "base_uri": "https://localhost:8080/"
        },
        "id": "bZITkSg1zyVD",
        "outputId": "c621a7c9-6357-487e-cfb6-fe31585e9c8a"
      },
      "execution_count": 108,
      "outputs": [
        {
          "output_type": "stream",
          "name": "stdout",
          "text": [
            "+-------+------+--------------------+\n",
            "|   name|salary|          occupation|\n",
            "+-------+------+--------------------+\n",
            "|    Bob| 200.0|       Data engineer|\n",
            "|Charlie| 300.0|    Python developer|\n",
            "|  Frank| 250.0|      Java developer|\n",
            "|   NULL| 350.0|                    |\n",
            "| Isabel| 280.0|Machine learning ...|\n",
            "+-------+------+--------------------+\n",
            "\n"
          ]
        }
      ]
    },
    {
      "cell_type": "code",
      "source": [
        "# filtrando seleccionando columnas\n",
        "df.filter(\"salary > 180\").select(['name', \"occupation\"]).show()"
      ],
      "metadata": {
        "colab": {
          "base_uri": "https://localhost:8080/"
        },
        "id": "LM_GN9BWzyXg",
        "outputId": "9326c757-53ba-4218-9471-e1140b34bc48"
      },
      "execution_count": 110,
      "outputs": [
        {
          "output_type": "stream",
          "name": "stdout",
          "text": [
            "+-------+--------------------+\n",
            "|   name|          occupation|\n",
            "+-------+--------------------+\n",
            "|    Bob|       Data engineer|\n",
            "|Charlie|    Python developer|\n",
            "|  Frank|      Java developer|\n",
            "|   NULL|                    |\n",
            "| Isabel|Machine learning ...|\n",
            "+-------+--------------------+\n",
            "\n"
          ]
        }
      ]
    },
    {
      "cell_type": "code",
      "source": [
        "df.filter(df['salary'] > 180).select(['name', \"occupation\"]).show()"
      ],
      "metadata": {
        "colab": {
          "base_uri": "https://localhost:8080/"
        },
        "id": "1XTDbjTfzyZL",
        "outputId": "6ac29696-fc12-4fcd-e97a-39b14cc36021"
      },
      "execution_count": 111,
      "outputs": [
        {
          "output_type": "stream",
          "name": "stdout",
          "text": [
            "+-------+--------------------+\n",
            "|   name|          occupation|\n",
            "+-------+--------------------+\n",
            "|    Bob|       Data engineer|\n",
            "|Charlie|    Python developer|\n",
            "|  Frank|      Java developer|\n",
            "|   NULL|                    |\n",
            "| Isabel|Machine learning ...|\n",
            "+-------+--------------------+\n",
            "\n"
          ]
        }
      ]
    },
    {
      "cell_type": "code",
      "source": [
        "df.filter((df['salary'] > 180) & (df['salary'] < 350)).select(['name', \"occupation\"]).show()"
      ],
      "metadata": {
        "colab": {
          "base_uri": "https://localhost:8080/"
        },
        "id": "1zMz3kH7zybk",
        "outputId": "32be6ce5-6931-4572-b93d-acf2d3c5049a"
      },
      "execution_count": 114,
      "outputs": [
        {
          "output_type": "stream",
          "name": "stdout",
          "text": [
            "+-------+--------------------+\n",
            "|   name|          occupation|\n",
            "+-------+--------------------+\n",
            "|    Bob|       Data engineer|\n",
            "|Charlie|    Python developer|\n",
            "|  Frank|      Java developer|\n",
            "| Isabel|Machine learning ...|\n",
            "+-------+--------------------+\n",
            "\n"
          ]
        }
      ]
    },
    {
      "cell_type": "markdown",
      "source": [
        "# Funciones de agregación y group by"
      ],
      "metadata": {
        "id": "sXk1Mzvc3zug"
      }
    },
    {
      "cell_type": "code",
      "source": [
        "from pyspark.sql.types import StringType, IntegerType, StructType, StructField"
      ],
      "metadata": {
        "id": "YDPxT17j4ggT"
      },
      "execution_count": 115,
      "outputs": []
    },
    {
      "cell_type": "code",
      "source": [
        "schema_new = StructType([\n",
        "    StructField(\"name\", StringType(), True),\n",
        "    StructField(\"department\", StringType(), True),\n",
        "    StructField(\"salary\", IntegerType(), True)\n",
        "])\n",
        "\n",
        "data_new = [\n",
        "    Row(name=\"Alice\", department=\"HR\", salary=100),\n",
        "    Row(name=\"Bob\", department=\"Engineering\", salary=200),\n",
        "    Row(name=\"Charlie\", department=\"IT\", salary=300),\n",
        "    Row(name=\"David\", department=\"Finance\", salary=150),\n",
        "    Row(name=\"Eva\", department=\"HR\", salary=250),\n",
        "    Row(name=\"Frank\", department=\"Marketing\", salary=180),\n",
        "    Row(name=\"Grace\", department=\"Engineering\", salary=220),\n",
        "    Row(name=\"Hank\", department=\"IT\", salary=280),\n",
        "    Row(name=\"Isabel\", department=\"Finance\", salary=200),\n",
        "    Row(name=\"Jack\", department=\"HR\", salary=120),\n",
        "]\n",
        "df_new = spark.createDataFrame(data_new, schema=schema_new)"
      ],
      "metadata": {
        "id": "C5Vtw6Ckzyds"
      },
      "execution_count": 116,
      "outputs": []
    },
    {
      "cell_type": "code",
      "source": [
        "df_new.show()"
      ],
      "metadata": {
        "colab": {
          "base_uri": "https://localhost:8080/"
        },
        "id": "vlA4wz-Pzyff",
        "outputId": "855aa188-1268-4cc9-976b-2f15d39a1ce3"
      },
      "execution_count": 117,
      "outputs": [
        {
          "output_type": "stream",
          "name": "stdout",
          "text": [
            "+-------+-----------+------+\n",
            "|   name| department|salary|\n",
            "+-------+-----------+------+\n",
            "|  Alice|         HR|   100|\n",
            "|    Bob|Engineering|   200|\n",
            "|Charlie|         IT|   300|\n",
            "|  David|    Finance|   150|\n",
            "|    Eva|         HR|   250|\n",
            "|  Frank|  Marketing|   180|\n",
            "|  Grace|Engineering|   220|\n",
            "|   Hank|         IT|   280|\n",
            "| Isabel|    Finance|   200|\n",
            "|   Jack|         HR|   120|\n",
            "+-------+-----------+------+\n",
            "\n"
          ]
        }
      ]
    },
    {
      "cell_type": "code",
      "source": [
        "# suma de salarios por departamento\n",
        "df_new.groupBy('department').sum().show()"
      ],
      "metadata": {
        "colab": {
          "base_uri": "https://localhost:8080/"
        },
        "id": "AfXqVP5q40kd",
        "outputId": "7d7a2856-d159-4f49-bddf-cff0cb28d3c6"
      },
      "execution_count": 121,
      "outputs": [
        {
          "output_type": "stream",
          "name": "stdout",
          "text": [
            "+-----------+-----------+\n",
            "| department|sum(salary)|\n",
            "+-----------+-----------+\n",
            "|Engineering|        420|\n",
            "|         HR|        470|\n",
            "|    Finance|        350|\n",
            "|         IT|        580|\n",
            "|  Marketing|        180|\n",
            "+-----------+-----------+\n",
            "\n"
          ]
        }
      ]
    },
    {
      "cell_type": "code",
      "source": [
        "# número de trabajadores por departamento\n",
        "df_new.groupBy('department').count().show()"
      ],
      "metadata": {
        "colab": {
          "base_uri": "https://localhost:8080/"
        },
        "id": "xPgaLINk41FQ",
        "outputId": "514558d5-8f9b-463c-a5f6-e0d97c860336"
      },
      "execution_count": 122,
      "outputs": [
        {
          "output_type": "stream",
          "name": "stdout",
          "text": [
            "+-----------+-----+\n",
            "| department|count|\n",
            "+-----------+-----+\n",
            "|Engineering|    2|\n",
            "|         HR|    3|\n",
            "|    Finance|    2|\n",
            "|         IT|    2|\n",
            "|  Marketing|    1|\n",
            "+-----------+-----+\n",
            "\n"
          ]
        }
      ]
    },
    {
      "cell_type": "code",
      "source": [
        "from pyspark.sql.functions import sum, avg, max\n",
        "df_new.agg(sum('salary').alias(\"Total de salarios\"), avg('salary').alias(\"Salario promedio\"), max('salary').alias(\"Salario mayor\")).show()"
      ],
      "metadata": {
        "colab": {
          "base_uri": "https://localhost:8080/"
        },
        "id": "VsZLFqPG41Hv",
        "outputId": "9b41f463-bd31-4025-ac12-0558419f954b"
      },
      "execution_count": 124,
      "outputs": [
        {
          "output_type": "stream",
          "name": "stdout",
          "text": [
            "+-----------------+----------------+-------------+\n",
            "|Total de salarios|Salario promedio|Salario mayor|\n",
            "+-----------------+----------------+-------------+\n",
            "|             2000|           200.0|          300|\n",
            "+-----------------+----------------+-------------+\n",
            "\n"
          ]
        }
      ]
    },
    {
      "cell_type": "markdown",
      "source": [
        "# PySpark ML"
      ],
      "metadata": {
        "id": "3QVsl060CBKU"
      }
    },
    {
      "cell_type": "code",
      "source": [
        "schema = StructType([\n",
        "    StructField(\"name\", StringType(), True),\n",
        "    StructField(\"age\", IntegerType(), True),\n",
        "    StructField(\"experience\", IntegerType(), True),\n",
        "    StructField(\"salary\", IntegerType(), True)\n",
        "])\n",
        "\n",
        "data = [\n",
        "    (\"Alice\", 25, 2, 50000),\n",
        "    (\"Bob\", 30, 5, 70000),\n",
        "    (\"Charlie\", 35, 8, 90000),\n",
        "    (\"David\", 28, 3, 60000),\n",
        "    (\"Eva\", 32, 6, 75000),\n",
        "    (\"Frank\", 40, 10, 100000),\n",
        "    (\"Grace\", 22, 1, 48000),\n",
        "    (\"Hank\", 33, 7, 85000),\n",
        "    (\"Isabel\", 27, 4, 62000),\n",
        "    (\"Jack\", 38, 9, 95000),\n",
        "    (\"Karen\", 29, 3, 58000),\n",
        "    (\"Leo\", 31, 6, 72000),\n",
        "    (\"Mia\", 26, 2, 52000),\n",
        "    (\"Nathan\", 36, 8, 88000),\n",
        "    (\"Olivia\", 24, 1, 45000),\n",
        "    (\"Peter\", 34, 7, 82000),\n",
        "    (\"Quinn\", 23, 2, 53000),\n",
        "    (\"Rachel\", 39, 10, 98000),\n",
        "    (\"Steve\", 37, 9, 92000),\n",
        "    (\"Tina\", 30, 4, 67000)\n",
        "]\n",
        "\n",
        "df_ml = spark.createDataFrame(data, schema=schema)"
      ],
      "metadata": {
        "id": "xCaqugyY41Jn"
      },
      "execution_count": 126,
      "outputs": []
    },
    {
      "cell_type": "code",
      "source": [
        "df_ml.show()"
      ],
      "metadata": {
        "colab": {
          "base_uri": "https://localhost:8080/"
        },
        "id": "_fln6bDQ41Ls",
        "outputId": "cc57fc20-ea24-419a-ed63-ae741a4a2adc"
      },
      "execution_count": 127,
      "outputs": [
        {
          "output_type": "stream",
          "name": "stdout",
          "text": [
            "+-------+---+----------+------+\n",
            "|   name|age|experience|salary|\n",
            "+-------+---+----------+------+\n",
            "|  Alice| 25|         2| 50000|\n",
            "|    Bob| 30|         5| 70000|\n",
            "|Charlie| 35|         8| 90000|\n",
            "|  David| 28|         3| 60000|\n",
            "|    Eva| 32|         6| 75000|\n",
            "|  Frank| 40|        10|100000|\n",
            "|  Grace| 22|         1| 48000|\n",
            "|   Hank| 33|         7| 85000|\n",
            "| Isabel| 27|         4| 62000|\n",
            "|   Jack| 38|         9| 95000|\n",
            "|  Karen| 29|         3| 58000|\n",
            "|    Leo| 31|         6| 72000|\n",
            "|    Mia| 26|         2| 52000|\n",
            "| Nathan| 36|         8| 88000|\n",
            "| Olivia| 24|         1| 45000|\n",
            "|  Peter| 34|         7| 82000|\n",
            "|  Quinn| 23|         2| 53000|\n",
            "| Rachel| 39|        10| 98000|\n",
            "|  Steve| 37|         9| 92000|\n",
            "|   Tina| 30|         4| 67000|\n",
            "+-------+---+----------+------+\n",
            "\n"
          ]
        }
      ]
    },
    {
      "cell_type": "code",
      "source": [
        "from pyspark.ml.feature import VectorAssembler"
      ],
      "metadata": {
        "id": "ww0QLbDu41Ob"
      },
      "execution_count": 128,
      "outputs": []
    },
    {
      "cell_type": "code",
      "source": [
        "# las columnas de entrada solo pueden ser de tipo numerico\n",
        "# se definen primero las variables independientes / new feature\n",
        "featureAssembler = VectorAssembler(inputCols=[\"age\", \"experience\"], outputCol=\"independent features\")"
      ],
      "metadata": {
        "id": "u0rhgZVo41Q5"
      },
      "execution_count": 131,
      "outputs": []
    },
    {
      "cell_type": "code",
      "source": [
        "output = featureAssembler.transform(df_ml)"
      ],
      "metadata": {
        "id": "qnoGJuh041Sx"
      },
      "execution_count": 132,
      "outputs": []
    },
    {
      "cell_type": "code",
      "source": [
        "output.show()"
      ],
      "metadata": {
        "colab": {
          "base_uri": "https://localhost:8080/"
        },
        "id": "JR1YElCM41Uy",
        "outputId": "ecc76bc6-d1d0-4e57-d056-906a674d4602"
      },
      "execution_count": 133,
      "outputs": [
        {
          "output_type": "stream",
          "name": "stdout",
          "text": [
            "+-------+---+----------+------+--------------------+\n",
            "|   name|age|experience|salary|independent features|\n",
            "+-------+---+----------+------+--------------------+\n",
            "|  Alice| 25|         2| 50000|          [25.0,2.0]|\n",
            "|    Bob| 30|         5| 70000|          [30.0,5.0]|\n",
            "|Charlie| 35|         8| 90000|          [35.0,8.0]|\n",
            "|  David| 28|         3| 60000|          [28.0,3.0]|\n",
            "|    Eva| 32|         6| 75000|          [32.0,6.0]|\n",
            "|  Frank| 40|        10|100000|         [40.0,10.0]|\n",
            "|  Grace| 22|         1| 48000|          [22.0,1.0]|\n",
            "|   Hank| 33|         7| 85000|          [33.0,7.0]|\n",
            "| Isabel| 27|         4| 62000|          [27.0,4.0]|\n",
            "|   Jack| 38|         9| 95000|          [38.0,9.0]|\n",
            "|  Karen| 29|         3| 58000|          [29.0,3.0]|\n",
            "|    Leo| 31|         6| 72000|          [31.0,6.0]|\n",
            "|    Mia| 26|         2| 52000|          [26.0,2.0]|\n",
            "| Nathan| 36|         8| 88000|          [36.0,8.0]|\n",
            "| Olivia| 24|         1| 45000|          [24.0,1.0]|\n",
            "|  Peter| 34|         7| 82000|          [34.0,7.0]|\n",
            "|  Quinn| 23|         2| 53000|          [23.0,2.0]|\n",
            "| Rachel| 39|        10| 98000|         [39.0,10.0]|\n",
            "|  Steve| 37|         9| 92000|          [37.0,9.0]|\n",
            "|   Tina| 30|         4| 67000|          [30.0,4.0]|\n",
            "+-------+---+----------+------+--------------------+\n",
            "\n"
          ]
        }
      ]
    },
    {
      "cell_type": "code",
      "source": [
        "finalized_data = output.select(['independent features', 'salary'])\n",
        "finalized_data.show()"
      ],
      "metadata": {
        "colab": {
          "base_uri": "https://localhost:8080/"
        },
        "id": "XImNWZtGEgqo",
        "outputId": "41d12baa-6242-4948-c670-89e5608a0ed5"
      },
      "execution_count": 135,
      "outputs": [
        {
          "output_type": "stream",
          "name": "stdout",
          "text": [
            "+--------------------+------+\n",
            "|independent features|salary|\n",
            "+--------------------+------+\n",
            "|          [25.0,2.0]| 50000|\n",
            "|          [30.0,5.0]| 70000|\n",
            "|          [35.0,8.0]| 90000|\n",
            "|          [28.0,3.0]| 60000|\n",
            "|          [32.0,6.0]| 75000|\n",
            "|         [40.0,10.0]|100000|\n",
            "|          [22.0,1.0]| 48000|\n",
            "|          [33.0,7.0]| 85000|\n",
            "|          [27.0,4.0]| 62000|\n",
            "|          [38.0,9.0]| 95000|\n",
            "|          [29.0,3.0]| 58000|\n",
            "|          [31.0,6.0]| 72000|\n",
            "|          [26.0,2.0]| 52000|\n",
            "|          [36.0,8.0]| 88000|\n",
            "|          [24.0,1.0]| 45000|\n",
            "|          [34.0,7.0]| 82000|\n",
            "|          [23.0,2.0]| 53000|\n",
            "|         [39.0,10.0]| 98000|\n",
            "|          [37.0,9.0]| 92000|\n",
            "|          [30.0,4.0]| 67000|\n",
            "+--------------------+------+\n",
            "\n"
          ]
        }
      ]
    },
    {
      "cell_type": "code",
      "source": [
        "from pyspark.ml.regression import LinearRegression\n",
        "\n",
        "# train test split\n",
        "train_data, test_data = finalized_data.randomSplit([0.75, 0.25])\n",
        "regressor = LinearRegression(featuresCol=\"independent features\", labelCol='salary')\n",
        "regressor =  regressor.fit(train_data)"
      ],
      "metadata": {
        "id": "e6Lbj89ZEgsu"
      },
      "execution_count": 137,
      "outputs": []
    },
    {
      "cell_type": "code",
      "source": [
        "regressor.coefficients"
      ],
      "metadata": {
        "colab": {
          "base_uri": "https://localhost:8080/"
        },
        "id": "ANXVjIv7Egux",
        "outputId": "717a3a75-ec71-4bbd-bd0e-f910012c989b"
      },
      "execution_count": 138,
      "outputs": [
        {
          "output_type": "execute_result",
          "data": {
            "text/plain": [
              "DenseVector([881.7064, 4445.6036])"
            ]
          },
          "metadata": {},
          "execution_count": 138
        }
      ]
    },
    {
      "cell_type": "code",
      "source": [
        "regressor.intercept"
      ],
      "metadata": {
        "colab": {
          "base_uri": "https://localhost:8080/"
        },
        "id": "gLz3yufJEgxM",
        "outputId": "2e740f09-b200-48c0-9f64-c1ca41065524"
      },
      "execution_count": 139,
      "outputs": [
        {
          "output_type": "execute_result",
          "data": {
            "text/plain": [
              "20954.17287632089"
            ]
          },
          "metadata": {},
          "execution_count": 139
        }
      ]
    },
    {
      "cell_type": "code",
      "source": [
        "# predicción\n",
        "pred_result = regressor.evaluate(test_data)"
      ],
      "metadata": {
        "id": "aU2iBTlwEgy8"
      },
      "execution_count": 140,
      "outputs": []
    },
    {
      "cell_type": "code",
      "source": [
        "pred_result.predictions.show()"
      ],
      "metadata": {
        "colab": {
          "base_uri": "https://localhost:8080/"
        },
        "id": "_J4_OFmVHMqp",
        "outputId": "a293aea9-3578-4f5e-bef4-93aab39512bc"
      },
      "execution_count": 141,
      "outputs": [
        {
          "output_type": "stream",
          "name": "stdout",
          "text": [
            "+--------------------+------+------------------+\n",
            "|independent features|salary|        prediction|\n",
            "+--------------------+------+------------------+\n",
            "|          [33.0,7.0]| 85000| 81169.70938897245|\n",
            "|          [23.0,2.0]| 53000| 50124.62742176022|\n",
            "|          [29.0,3.0]| 58000|59860.469448582546|\n",
            "|          [37.0,9.0]| 92000| 93587.74217585733|\n",
            "|         [39.0,10.0]| 98000|  99796.7585692998|\n",
            "+--------------------+------+------------------+\n",
            "\n"
          ]
        }
      ]
    },
    {
      "cell_type": "code",
      "source": [
        "pred_result.meanAbsoluteError, pred_result.meanSquaredError"
      ],
      "metadata": {
        "colab": {
          "base_uri": "https://localhost:8080/"
        },
        "id": "y0Wl_EzCHsys",
        "outputId": "d01934df-0bcf-4898-c004-a6e49f702d50"
      },
      "execution_count": 142,
      "outputs": [
        {
          "output_type": "execute_result",
          "data": {
            "text/plain": [
              "(2390.1266766014014, 6429901.354215315)"
            ]
          },
          "metadata": {},
          "execution_count": 142
        }
      ]
    }
  ]
}